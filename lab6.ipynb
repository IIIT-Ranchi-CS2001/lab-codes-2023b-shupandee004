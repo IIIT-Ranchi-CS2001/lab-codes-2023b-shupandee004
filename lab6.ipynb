{
 "cells": [
  {
   "cell_type": "markdown",
   "metadata": {},
   "source": [
    "# exponential series\n"
   ]
  },
  {
   "cell_type": "code",
   "execution_count": 1,
   "metadata": {},
   "outputs": [
    {
     "name": "stdout",
     "output_type": "stream",
     "text": [
      "sum of series is\t-335.8799603174603\n"
     ]
    }
   ],
   "source": [
    "def fact(j):\n",
    "    l=1\n",
    "    for k in range(1,j):\n",
    "        l=l*k\n",
    "    return l\n",
    "def expo(m,y):\n",
    "    sm=1\n",
    "    j=2\n",
    "    for i in range(1,m):\n",
    "        sm=sm+((((-1)**(m))*(y**j))/(fact(j)))\n",
    "        j=j+2\n",
    "    print(f\"sum of series is\\t{sm}\")\n",
    "n=int(input(\"enter limit\"))\n",
    "x=int(input(\"enter value of x\"))\n",
    "expo(n,x)\n"
   ]
  },
  {
   "cell_type": "code",
   "execution_count": 23,
   "metadata": {},
   "outputs": [
    {
     "name": "stdout",
     "output_type": "stream",
     "text": [
      "attended both {'spydey'}\n",
      "attended only one {'doremon', 'nagraj', 'patlu', 'motu'}\n",
      "bunked classes {'Tom', 'chota bheem', 'Pikachu', 'Jerry'}\n"
     ]
    }
   ],
   "source": [
    "stud={\"Tom\",\"Jerry\",\"Pikachu\",\"spydey\",\"doremon\",\"chota bheem\",\"nagraj\",\"balveer\",\"motu\",\"patlu\"}\n",
    "pd={\"spydey\",\"motu\",\"patlu\"}\n",
    "me={\"nagraj\",\"doremon\",\"spydey\"}\n",
    "ac={\"Doremon\",\"balveer\"}\n",
    "print(\"attended both\",pd&me)\n",
    "print(\"attended only one\",pd^me)\n",
    "print(\"bunked classes\",stud-(pd|me|ac))\n"
   ]
  },
  {
   "cell_type": "code",
   "execution_count": 2,
   "metadata": {},
   "outputs": [
    {
     "ename": "IndexError",
     "evalue": "list index out of range",
     "output_type": "error",
     "traceback": [
      "\u001b[1;31m---------------------------------------------------------------------------\u001b[0m",
      "\u001b[1;31mIndexError\u001b[0m                                Traceback (most recent call last)",
      "Cell \u001b[1;32mIn[2], line 6\u001b[0m\n\u001b[0;32m      4\u001b[0m a\u001b[38;5;241m=\u001b[39m\u001b[38;5;28minput\u001b[39m()\n\u001b[0;32m      5\u001b[0m A\u001b[38;5;241m=\u001b[39m\u001b[38;5;28mlist\u001b[39m(\u001b[38;5;28mmap\u001b[39m(\u001b[38;5;28mint\u001b[39m,a\u001b[38;5;241m.\u001b[39msplit()))[:N]\n\u001b[1;32m----> 6\u001b[0m r\u001b[38;5;241m=\u001b[39m\u001b[43mA\u001b[49m\u001b[43m[\u001b[49m\u001b[43mN\u001b[49m\u001b[38;5;241;43m-\u001b[39;49m\u001b[38;5;241;43m1\u001b[39;49m\u001b[43m]\u001b[49m\u001b[38;5;241m/\u001b[39m\u001b[38;5;241m2\u001b[39m\n\u001b[0;32m      7\u001b[0m ct\u001b[38;5;241m=\u001b[39mN\n\u001b[0;32m      8\u001b[0m i\u001b[38;5;241m=\u001b[39mN\u001b[38;5;241m-\u001b[39m\u001b[38;5;241m1\u001b[39m\n",
      "\u001b[1;31mIndexError\u001b[0m: list index out of range"
     ]
    }
   ],
   "source": [
    "T=int(input())\n",
    "while(T>0):\n",
    "    N=int(input())\n",
    "    a=input()\n",
    "    A=list(map(int,a.split()))[:N]\n",
    "    r=A[N-1]/2\n",
    "    ct=N\n",
    "    i=N-1\n",
    "    while(i>-1):\n",
    "        if(r>=A[i]):\n",
    "            ct=ct-1\n",
    "        i=i-1\n",
    "    print(ct)\n",
    "     \n",
    "    T=T-1"
   ]
  }
 ],
 "metadata": {
  "kernelspec": {
   "display_name": "Python 3",
   "language": "python",
   "name": "python3"
  },
  "language_info": {
   "codemirror_mode": {
    "name": "ipython",
    "version": 3
   },
   "file_extension": ".py",
   "mimetype": "text/x-python",
   "name": "python",
   "nbconvert_exporter": "python",
   "pygments_lexer": "ipython3",
   "version": "3.12.5"
  }
 },
 "nbformat": 4,
 "nbformat_minor": 2
}

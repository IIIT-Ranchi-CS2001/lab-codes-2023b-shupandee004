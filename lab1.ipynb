{
 "cells": [
  {
   "cell_type": "markdown",
   "metadata": {},
   "source": [
    "## 28 Aug, 2024"
   ]
  },
  {
   "cell_type": "markdown",
   "metadata": {},
   "source": [
    "1. Write a program to find Sum, Difference, Product, Integer quotient, Remainder, Fractional quotient of two numbers. Enter the numbers on runtime, display the Input data and Result in near format."
   ]
  },
  {
   "cell_type": "code",
   "execution_count": 7,
   "metadata": {},
   "outputs": [
    {
     "name": "stdout",
     "output_type": "stream",
     "text": [
      "Enter two numbers: \n",
      "Sum: 7\n",
      "Difference: 3\n",
      "Product: 10\n",
      "Integer Quotient: 2\n",
      "Remainder: 1\n",
      "Fractional Quotient: 2.5\n"
     ]
    }
   ],
   "source": [
    "print(\"Enter two numbers: \")\n",
    "a = int(input())\n",
    "b = int(input())\n",
    "\n",
    "print(\"Sum: \" + str(a + b))\n",
    "print(\"Difference: \" + str(a - b))\n",
    "print(\"Product: \" + str(a * b))\n",
    "print(\"Integer Quotient: \" + str(a // b))\n",
    "print(\"Remainder: \" + str(a % b))\n",
    "print(\"Fractional Quotient: \" + str(a / b))"
   ]
  },
  {
   "cell_type": "markdown",
   "metadata": {},
   "source": [
    "2. Write a program to find:\n",
    "   - Area and perimeter of triangle when all three sides are given. Use heron's equation.\n",
    "   - Find all the angles of a triangle given 3 sides of a triangle."
   ]
  },
  {
   "cell_type": "code",
   "execution_count": 13,
   "metadata": {},
   "outputs": [
    {
     "name": "stdout",
     "output_type": "stream",
     "text": [
      "Enter sides of triangle\n",
      "Sides: 1.0, 1.0, 1.4141\n",
      "Area of triangle: 0.49999999355231145\n",
      "Angles: 45.004600707875234, 45.004600707875234, 89.99079858424953\n"
     ]
    }
   ],
   "source": [
    "import math\n",
    "\n",
    "print(\"Enter sides of triangle\")\n",
    "a = float(input())\n",
    "b = float(input())\n",
    "c = float(input())\n",
    "\n",
    "print(\"Sides: \" + str(a) + \", \" + str(b) + \", \" + str(c))\n",
    "\n",
    "s = (a + b + c) / 2\n",
    "area = math.sqrt(s * (s - a) * (s - b) * (s - c))\n",
    "\n",
    "cosA = (b**2 + c**2 - a**2) / (2 * b * c)\n",
    "cosB = (a**2 + c**2 - b**2) / (2 * a * c)\n",
    "cosC = (a**2 + b**2 - c**2) / (2 * a * b)\n",
    "\n",
    "angleA = math.degrees(math.acos(cosA))\n",
    "angleB = math.degrees(math.acos(cosB))\n",
    "angleC = math.degrees(math.acos(cosC))\n",
    "\n",
    "print(\"Area of triangle: \" + str(area))\n",
    "print(\"Angles: \" + str(angleA) + \", \" + str(angleB) + \", \" + str(angleC))"
   ]
  },
  {
   "cell_type": "markdown",
   "metadata": {},
   "source": [
    "3. Write a program to convert temperature from celsius to fahrenhite"
   ]
  },
  {
   "cell_type": "code",
   "execution_count": 1,
   "metadata": {},
   "outputs": [
    {
     "name": "stdout",
     "output_type": "stream",
     "text": [
      "Temperature in fahrenhite is 68.0\n"
     ]
    }
   ],
   "source": [
    "tc = float(input(\"Enter temperature in Celsius: \"))\n",
    "\n",
    "tf = tc * 1.8 + 32\n",
    "\n",
    "print(\"Temperature in fahrenhite is \" + str(tf))"
   ]
  }
 ],
 "metadata": {
  "kernelspec": {
   "display_name": "Python 3",
   "language": "python",
   "name": "python3"
  },
  "language_info": {
   "codemirror_mode": {
    "name": "ipython",
    "version": 3
   },
   "file_extension": ".py",
   "mimetype": "text/x-python",
   "name": "python",
   "nbconvert_exporter": "python",
   "pygments_lexer": "ipython3",
   "version": "3.12.3"
  }
 },
 "nbformat": 4,
 "nbformat_minor": 2
}

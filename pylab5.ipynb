{
 "cells": [
  {
   "cell_type": "markdown",
   "metadata": {},
   "source": [
    "# Q1:tuple1\n"
   ]
  },
  {
   "cell_type": "code",
   "execution_count": 7,
   "metadata": {},
   "outputs": [
    {
     "name": "stdout",
     "output_type": "stream",
     "text": [
      "5.196152422706632\n"
     ]
    }
   ],
   "source": [
    "import math as ma\n",
    "p= int(input(\"Enter the number of elements: \"))\n",
    "inpt = input(\"Enter elements separated by space: \")\n",
    "a1 = list(map(int, inpt.split()))[:p]\n",
    "a1=tuple(a1)\n",
    "inpt = input(\"Enter elements separated by space: \")\n",
    "a2 = list(map(int, inpt.split()))[:p]\n",
    "a2=tuple(a2)\n",
    "rz=0\n",
    "for i in range(0,p):\n",
    "    rz+=(a1[i]-a2[i])**2\n",
    "op=ma.sqrt(rz)\n",
    "print(op)\n",
    "\n",
    "\n"
   ]
  },
  {
   "cell_type": "markdown",
   "metadata": {},
   "source": [
    "# Q2:List Comprehension\n"
   ]
  },
  {
   "cell_type": "code",
   "execution_count": 12,
   "metadata": {},
   "outputs": [
    {
     "name": "stdout",
     "output_type": "stream",
     "text": [
      "[('Student 2', 2, 42), ('Student 3', 3, 55), ('Student 4', 4, 81), ('Student 1', 1, 87)]\n"
     ]
    }
   ],
   "source": [
    "import random\n",
    "names = [f\"Student {i}\" for i in range(1, 5)] \n",
    "roll_nos = [i for i in range(1, 5)] \n",
    "marks = [random.randint(40, 100) for _ in range(10)]\n",
    "student_details = list(zip(names, roll_nos, marks))\n",
    "SSD= sorted(student_details, key=lambda x: x[2])\n",
    "print(SSD)"
   ]
  },
  {
   "cell_type": "markdown",
   "metadata": {},
   "source": [
    "# Q3:List comp2 without zip\n",
    " "
   ]
  },
  {
   "cell_type": "code",
   "execution_count": 25,
   "metadata": {},
   "outputs": [
    {
     "name": "stdout",
     "output_type": "stream",
     "text": [
      "[('Student 8', 8, 47), ('Student 10', 10, 51), ('Student 9', 9, 66), ('Student 5', 5, 71), ('Student 3', 3, 76), ('Student 6', 6, 76), ('Student 2', 2, 80), ('Student 4', 4, 81), ('Student 7', 7, 86), ('Student 1', 1, 89)]\n"
     ]
    }
   ],
   "source": [
    "import random\n",
    "names = [f\"Student {i}\" for i in range(1, 11)] \n",
    "roll_nos = [i for i in range(1, 11)] \n",
    "marks = [random.randint(40, 100) for _ in range(10)]\n",
    "ssd=[(names[i], roll_nos[i], marks[i]) for i in range(10)]\n",
    "sds= []\n",
    "while ssd:\n",
    "    min_index = 0\n",
    "    for i in range(1, len(ssd)):\n",
    "        if ssd[i][2] < ssd[min_index][2]:\n",
    "            min_index = i\n",
    "    sds.append(ssd.pop(min_index))\n",
    "print(sds)\n",
    "\n"
   ]
  },
  {
   "cell_type": "markdown",
   "metadata": {},
   "source": [
    "# Q4:Dictionary count\n"
   ]
  },
  {
   "cell_type": "code",
   "execution_count": 24,
   "metadata": {},
   "outputs": [
    {
     "name": "stdout",
     "output_type": "stream",
     "text": [
      "Letter Count:\n",
      "a: 4\n",
      "n: 2\n",
      "g: 1\n",
      "m: 1\n"
     ]
    }
   ],
   "source": [
    "string =input(\"enter a string\")\n",
    "letter_count = {}\n",
    "\n",
    "for char in string:\n",
    "    if char.isalpha():  \n",
    "        char = char.lower()  \n",
    "        if char in letter_count:\n",
    "            letter_count[char] += 1\n",
    "        else:\n",
    "            letter_count[char] = 1\n",
    "\n",
    "print(\"Letter Count:\")\n",
    "for letter, count in letter_count.items():\n",
    "    print(f\"{letter}: {count}\")"
   ]
  },
  {
   "cell_type": "markdown",
   "metadata": {},
   "source": [
    "# Q5:Dictionary key"
   ]
  },
  {
   "cell_type": "code",
   "execution_count": 27,
   "metadata": {},
   "outputs": [
    {
     "name": "stdout",
     "output_type": "stream",
     "text": [
      "Classification of Students:\n",
      "High Performers (2): ['v', 'i']\n",
      "Average Performers (0): []\n",
      "Low Performers (3): ['r', 'a', 'g']\n",
      "Student(s) with the highest marks: ['i'] with 98.0%\n"
     ]
    }
   ],
   "source": [
    "student_marks = {}\n",
    "for i in range(5):\n",
    "    name = input(f\"Enter name of student {i+1}: \")\n",
    "    mark = float(input(f\"Enter mark of student {i+1} (in percentage): \"))\n",
    "    student_marks[name] = mark\n",
    "high_performers = {}\n",
    "average_performers = {}\n",
    "low_performers = {}\n",
    "for name, mark in student_marks.items():\n",
    "    if mark >= 85:\n",
    "        high_performers[name] = mark\n",
    "    elif 60 <= mark < 85:\n",
    "        average_performers[name] = mark\n",
    "    else:\n",
    "        low_performers[name] = mark\n",
    "print(\"Classification of Students:\")\n",
    "print(f\"High Performers ({len(high_performers)}): {list(high_performers.keys())}\")\n",
    "print(f\"Average Performers ({len(average_performers)}): {list(average_performers.keys())}\")\n",
    "print(f\"Low Performers ({len(low_performers)}): {list(low_performers.keys())}\")\n",
    "max_mark = max(student_marks.values())\n",
    "max_mark_students = [name for name, mark in student_marks.items() if mark == max_mark]\n",
    "print(f\"Student(s) with the highest marks: {max_mark_students} with {max_mark}%\")"
   ]
  },
  {
   "cell_type": "markdown",
   "metadata": {},
   "source": [
    "# Q6:Manager"
   ]
  },
  {
   "cell_type": "code",
   "execution_count": null,
   "metadata": {},
   "outputs": [],
   "source": [
    "employee_salaries = {}\n",
    "for i in range(5):\n",
    "    name = input(\"Enter employee name: \")\n",
    "    salary = float(input(\"Enter employee salary: \"))\n",
    "    employee_salaries[name] = salary\n",
    "sorted_employees = []\n",
    "while employee_salaries:\n",
    "    max_salary = max(employee_salaries.values())\n",
    "    max_salary_employee = [name for name, salary in employee_salaries.items() if salary == max_salary][0]\n",
    "    sorted_employees.append((max_salary_employee, max_salary))\n",
    "    del employee_salaries[max_salary_employee]\n",
    "print(\"Sorted List of Employees by Salary:\")\n",
    "for i, (name, salary) in enumerate(sorted_employees, start=1):\n",
    "    print(f\"Rank {i}: {name} - Salary: ${salary:.2f}\")"
   ]
  }
 ],
 "metadata": {
  "kernelspec": {
   "display_name": "base",
   "language": "python",
   "name": "python3"
  },
  "language_info": {
   "codemirror_mode": {
    "name": "ipython",
    "version": 3
   },
   "file_extension": ".py",
   "mimetype": "text/x-python",
   "name": "python",
   "nbconvert_exporter": "python",
   "pygments_lexer": "ipython3",
   "version": "3.12.4"
  }
 },
 "nbformat": 4,
 "nbformat_minor": 2
}

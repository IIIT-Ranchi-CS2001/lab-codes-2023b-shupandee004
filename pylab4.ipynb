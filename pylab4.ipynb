{
 "cells": [
  {
   "cell_type": "markdown",
   "metadata": {},
   "source": [
    "# Q1:palindrome in sentence"
   ]
  },
  {
   "cell_type": "code",
   "execution_count": 3,
   "metadata": {},
   "outputs": [
    {
     "name": "stdout",
     "output_type": "stream",
     "text": [
      "number of palindrome 0\n"
     ]
    }
   ],
   "source": [
    "S1=input(\"Enter a string\")\n",
    "S2=S1.split()\n",
    "count=0\n",
    "for i in range(len(S2)):\n",
    "    if(S2[::-1]==S2):\n",
    "        count+=1\n",
    "print(\"number of palindrome\", count)"
   ]
  },
  {
   "cell_type": "markdown",
   "metadata": {},
   "source": [
    "# Q2:List"
   ]
  },
  {
   "cell_type": "code",
   "execution_count": 17,
   "metadata": {},
   "outputs": [
    {
     "name": "stdout",
     "output_type": "stream",
     "text": [
      "mean is 1.2\n",
      "mode is  1\n",
      "median is 2\n"
     ]
    }
   ],
   "source": [
    "import statistics as St\n",
    "p= int(input(\"Enter the number of elements: \"))\n",
    "inpt = input(\"Enter elements separated by space: \")\n",
    "arr = list(map(int, inpt.split()))[:p]\n",
    "mean,median,mode,Sum1=0,0,0,0\n",
    "arr.sort()\n",
    "for i in arr:\n",
    "    Sum1+=arr[i]\n",
    "    if(p%2==0):\n",
    "        p1=p/2\n",
    "        p2=(p/2)+1\n",
    "        medi=(arr[p2]+arr[p1])/2\n",
    "    else:\n",
    "        p3=int((p+1)/2)\n",
    "        medi=arr[p3-1]\n",
    "    \n",
    "mean=Sum1/p\n",
    "mode=St.mode(arr)\n",
    "print(\"mean is\", mean)\n",
    "print(\"mode is \", mode)\n",
    "print(\"median is\", medi)\n"
   ]
  },
  {
   "cell_type": "markdown",
   "metadata": {},
   "source": [
    "# Q3:concat list\n"
   ]
  },
  {
   "cell_type": "code",
   "execution_count": 25,
   "metadata": {},
   "outputs": [
    {
     "name": "stdout",
     "output_type": "stream",
     "text": [
      "CD1001:py\n",
      "CS2001:C\n"
     ]
    }
   ],
   "source": [
    "l=int(input(\"enter total elements\"))\n",
    "C=input(\"enter cource code:\")\n",
    "cc=C.split()\n",
    "c=input(\"enter cource name:\")\n",
    "cn=c.split()\n",
    "mc=[]\n",
    "for i in range(0,l):\n",
    "    mc=cc[i]+':'+cn[i]\n",
    "    print(mc)\n",
    "    i+=1\n"
   ]
  }
 ],
 "metadata": {
  "kernelspec": {
   "display_name": "base",
   "language": "python",
   "name": "python3"
  },
  "language_info": {
   "codemirror_mode": {
    "name": "ipython",
    "version": 3
   },
   "file_extension": ".py",
   "mimetype": "text/x-python",
   "name": "python",
   "nbconvert_exporter": "python",
   "pygments_lexer": "ipython3",
   "version": "3.12.4"
  }
 },
 "nbformat": 4,
 "nbformat_minor": 2
}

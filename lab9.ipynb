{
 "cells": [
  {
   "cell_type": "markdown",
   "metadata": {},
   "source": [
    "Election Data:\n",
    "\n",
    "| State                   | Party        | Seats_Won     | Total_Seats          | Voter_Turnout (%) |\n",
    "|-------------------------|--------------|---------------|----------------------|-------------------|\n",
    "| Madhya Pradesh          | BJP          | 163           | 230                  | 72.1              |\n",
    "| Madhya Pradesh          | INC          | 66            | 230                  | 72.1              |\n",
    "| Madhya Pradesh          | BSP          | 0             | 230                  | 72.1              |\n",
    "| Madhya Pradesh          | Others       | 1             | 230                  | 72.1              |\n",
    "| Rajasthan               | BJP          | 115           | 200                  | 74.2              |\n",
    "| Rajasthan               | INC          | 69            | 200                  | 74.2              |\n",
    "| Rajasthan               | BSP          | 2             | 200                  | 74.2              |\n",
    "| Rajasthan               | Others       | 13            | 200                  | 74.2              |\n",
    "\n",
    "\n",
    "And perform the following tasks:  \n",
    "1. Check if the file `election_data.csv` exists in the directory. If not, create the file and write the election data into it. Handle file-related exceptions gracefully.\n",
    "2. Read the data into a Pandas DataFrame and calculate the percentage of seats won by each party. Add this as a new column named Seats_Percentage.\n",
    "3. Determine the party with the highest number of seats in each state and display their names.\n",
    "4. Create a bar chart showing the number of seats won by each party in each state using Matplotlib or Seaborn.\n",
    "5. Ensure your script includes exception handling for file reading, writing, and any potential calculation errors.\n"
   ]
  },
  {
   "cell_type": "code",
   "execution_count": 2,
   "metadata": {},
   "outputs": [],
   "source": [
    "import pandas as pd\n",
    "\n",
    "election_data = pd.DataFrame({\n",
    "    \"State\": [\"Madhya Pradesh\", \"Madhya Pradesh\", \"Madhya Pradesh\", \"Madhya Pradesh\", \"Rajasthan\", \"Rajasthan\", \"Rajasthan\", \"Rajasthan\"],\n",
    "    \"Party\": [\"BJP\", \"INC\", \"BSP\", \"Others\", \"BJP\", \"INC\", \"BSP\", \"Others\"],\n",
    "    \"Seats_Won\": [163, 66, 0, 1, 115, 69, 2, 13],\n",
    "    \"Total_Seats\": [230, 230, 230, 230, 200, 200, 200, 200],\n",
    "    \"Voter_Turnout (%)\": [72.1, 72.1, 72.1, 72.1, 74.2, 74.2, 74.2, 74.2]\n",
    "})\n",
    "try:\n",
    "    pd.read_csv('election_data.csv')\n",
    "except FileNotFoundError:\n",
    "    election_data.to_csv('election_data.csv')\n"
   ]
  },
  {
   "cell_type": "code",
   "execution_count": 8,
   "metadata": {},
   "outputs": [
    {
     "data": {
      "text/html": [
       "<div>\n",
       "<style scoped>\n",
       "    .dataframe tbody tr th:only-of-type {\n",
       "        vertical-align: middle;\n",
       "    }\n",
       "\n",
       "    .dataframe tbody tr th {\n",
       "        vertical-align: top;\n",
       "    }\n",
       "\n",
       "    .dataframe thead th {\n",
       "        text-align: right;\n",
       "    }\n",
       "</style>\n",
       "<table border=\"1\" class=\"dataframe\">\n",
       "  <thead>\n",
       "    <tr style=\"text-align: right;\">\n",
       "      <th></th>\n",
       "      <th>Unnamed: 0</th>\n",
       "      <th>State</th>\n",
       "      <th>Party</th>\n",
       "      <th>Seats_Won</th>\n",
       "      <th>Total_Seats</th>\n",
       "      <th>Voter_Turnout (%)</th>\n",
       "      <th>Seats_Percentage</th>\n",
       "    </tr>\n",
       "  </thead>\n",
       "  <tbody>\n",
       "    <tr>\n",
       "      <th>0</th>\n",
       "      <td>0</td>\n",
       "      <td>Madhya Pradesh</td>\n",
       "      <td>BJP</td>\n",
       "      <td>163</td>\n",
       "      <td>230</td>\n",
       "      <td>72.1</td>\n",
       "      <td>70.869565</td>\n",
       "    </tr>\n",
       "    <tr>\n",
       "      <th>1</th>\n",
       "      <td>1</td>\n",
       "      <td>Madhya Pradesh</td>\n",
       "      <td>INC</td>\n",
       "      <td>66</td>\n",
       "      <td>230</td>\n",
       "      <td>72.1</td>\n",
       "      <td>28.695652</td>\n",
       "    </tr>\n",
       "    <tr>\n",
       "      <th>2</th>\n",
       "      <td>2</td>\n",
       "      <td>Madhya Pradesh</td>\n",
       "      <td>BSP</td>\n",
       "      <td>0</td>\n",
       "      <td>230</td>\n",
       "      <td>72.1</td>\n",
       "      <td>0.000000</td>\n",
       "    </tr>\n",
       "    <tr>\n",
       "      <th>3</th>\n",
       "      <td>3</td>\n",
       "      <td>Madhya Pradesh</td>\n",
       "      <td>Others</td>\n",
       "      <td>1</td>\n",
       "      <td>230</td>\n",
       "      <td>72.1</td>\n",
       "      <td>0.434783</td>\n",
       "    </tr>\n",
       "    <tr>\n",
       "      <th>4</th>\n",
       "      <td>4</td>\n",
       "      <td>Rajasthan</td>\n",
       "      <td>BJP</td>\n",
       "      <td>115</td>\n",
       "      <td>200</td>\n",
       "      <td>74.2</td>\n",
       "      <td>57.500000</td>\n",
       "    </tr>\n",
       "  </tbody>\n",
       "</table>\n",
       "</div>"
      ],
      "text/plain": [
       "   Unnamed: 0           State   Party  Seats_Won  Total_Seats  \\\n",
       "0           0  Madhya Pradesh     BJP        163          230   \n",
       "1           1  Madhya Pradesh     INC         66          230   \n",
       "2           2  Madhya Pradesh     BSP          0          230   \n",
       "3           3  Madhya Pradesh  Others          1          230   \n",
       "4           4       Rajasthan     BJP        115          200   \n",
       "\n",
       "   Voter_Turnout (%)  Seats_Percentage  \n",
       "0               72.1         70.869565  \n",
       "1               72.1         28.695652  \n",
       "2               72.1          0.000000  \n",
       "3               72.1          0.434783  \n",
       "4               74.2         57.500000  "
      ]
     },
     "execution_count": 8,
     "metadata": {},
     "output_type": "execute_result"
    }
   ],
   "source": [
    "df=pd.read_csv('election_data.csv')\n",
    "df['Seats_Percentage']=(df['Seats_Won']/df['Total_Seats'])*100\n",
    "df.head()\n"
   ]
  },
  {
   "cell_type": "code",
   "execution_count": 10,
   "metadata": {},
   "outputs": [
    {
     "data": {
      "text/html": [
       "<div>\n",
       "<style scoped>\n",
       "    .dataframe tbody tr th:only-of-type {\n",
       "        vertical-align: middle;\n",
       "    }\n",
       "\n",
       "    .dataframe tbody tr th {\n",
       "        vertical-align: top;\n",
       "    }\n",
       "\n",
       "    .dataframe thead th {\n",
       "        text-align: right;\n",
       "    }\n",
       "</style>\n",
       "<table border=\"1\" class=\"dataframe\">\n",
       "  <thead>\n",
       "    <tr style=\"text-align: right;\">\n",
       "      <th>Party</th>\n",
       "      <th>BJP</th>\n",
       "      <th>BSP</th>\n",
       "      <th>INC</th>\n",
       "      <th>Others</th>\n",
       "    </tr>\n",
       "    <tr>\n",
       "      <th>State</th>\n",
       "      <th></th>\n",
       "      <th></th>\n",
       "      <th></th>\n",
       "      <th></th>\n",
       "    </tr>\n",
       "  </thead>\n",
       "  <tbody>\n",
       "    <tr>\n",
       "      <th>Madhya Pradesh</th>\n",
       "      <td>163</td>\n",
       "      <td>0</td>\n",
       "      <td>66</td>\n",
       "      <td>1</td>\n",
       "    </tr>\n",
       "    <tr>\n",
       "      <th>Rajasthan</th>\n",
       "      <td>115</td>\n",
       "      <td>2</td>\n",
       "      <td>69</td>\n",
       "      <td>13</td>\n",
       "    </tr>\n",
       "  </tbody>\n",
       "</table>\n",
       "</div>"
      ],
      "text/plain": [
       "Party           BJP  BSP  INC  Others\n",
       "State                                \n",
       "Madhya Pradesh  163    0   66       1\n",
       "Rajasthan       115    2   69      13"
      ]
     },
     "execution_count": 10,
     "metadata": {},
     "output_type": "execute_result"
    }
   ],
   "source": [
    "temp=df.pivot(index='State', columns='Party' , values='Seats_Won')\n",
    "temp\n"
   ]
  },
  {
   "cell_type": "code",
   "execution_count": 27,
   "metadata": {},
   "outputs": [
    {
     "data": {
      "text/html": [
       "<div>\n",
       "<style scoped>\n",
       "    .dataframe tbody tr th:only-of-type {\n",
       "        vertical-align: middle;\n",
       "    }\n",
       "\n",
       "    .dataframe tbody tr th {\n",
       "        vertical-align: top;\n",
       "    }\n",
       "\n",
       "    .dataframe thead th {\n",
       "        text-align: right;\n",
       "    }\n",
       "</style>\n",
       "<table border=\"1\" class=\"dataframe\">\n",
       "  <thead>\n",
       "    <tr style=\"text-align: right;\">\n",
       "      <th></th>\n",
       "      <th>Winning_Party</th>\n",
       "    </tr>\n",
       "    <tr>\n",
       "      <th>State</th>\n",
       "      <th></th>\n",
       "    </tr>\n",
       "  </thead>\n",
       "  <tbody>\n",
       "    <tr>\n",
       "      <th>Madhya Pradesh</th>\n",
       "      <td>BJP</td>\n",
       "    </tr>\n",
       "    <tr>\n",
       "      <th>Rajasthan</th>\n",
       "      <td>BJP</td>\n",
       "    </tr>\n",
       "  </tbody>\n",
       "</table>\n",
       "</div>"
      ],
      "text/plain": [
       "               Winning_Party\n",
       "State                       \n",
       "Madhya Pradesh           BJP\n",
       "Rajasthan                BJP"
      ]
     },
     "execution_count": 27,
     "metadata": {},
     "output_type": "execute_result"
    }
   ],
   "source": [
    "q=temp.idxmax(axis=1)\n",
    "res=pd.DataFrame(q,columns=['Winning_Party'])\n",
    "res.head()"
   ]
  },
  {
   "cell_type": "code",
   "execution_count": 33,
   "metadata": {},
   "outputs": [
    {
     "data": {
      "text/plain": [
       "(array([0, 1]), [Text(0, 0, 'Madhya Pradesh'), Text(1, 0, 'Rajasthan')])"
      ]
     },
     "execution_count": 33,
     "metadata": {},
     "output_type": "execute_result"
    },
    {
     "data": {
      "image/png": "[encoded data removed]",
      "text/plain": [
       "<Figure size 640x480 with 1 Axes>"
      ]
     },
     "metadata": {},
     "output_type": "display_data"
    }
   ],
   "source": [
    "import matplotlib.pyplot as plt\n",
    "temp.plot(kind='bar')\n",
    "plt.ylabel('Seats Won')\n",
    "plt.title(\" ELECTION RESULTS\")\n",
    "plt.xticks(rotation=0)"
   ]
  },
  {
   "cell_type": "code",
   "execution_count": null,
   "metadata": {},
   "outputs": [],
   "source": []
  }
 ],
 "metadata": {
  "kernelspec": {
   "display_name": "Python 3",
   "language": "python",
   "name": "python3"
  },
  "language_info": {
   "codemirror_mode": {
    "name": "ipython",
    "version": 3
   },
   "file_extension": ".py",
   "mimetype": "text/x-python",
   "name": "python",
   "nbconvert_exporter": "python",
   "pygments_lexer": "ipython3",
   "version": "3.11.2"
  }
 },
 "nbformat": 4,
 "nbformat_minor": 2
}
